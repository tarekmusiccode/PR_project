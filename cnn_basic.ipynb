{
 "cells": [
  {
   "cell_type": "code",
   "execution_count": 29,
   "metadata": {},
   "outputs": [],
   "source": [
    "import albumentations as A\n",
    "import os\n",
    "from tqdm import tqdm\n",
    "import cv2\n",
    "import numpy as np\n",
    "import random\n",
    "import matplotlib.pyplot as plt\n",
    "from sklearn.metrics import accuracy_score, classification_report\n",
    "from sklearn.model_selection import train_test_split\n",
    "from keras.models import Sequential\n",
    "from keras.layers import Conv2D, MaxPooling2D, Dense, Flatten, Dropout\n",
    "from keras.utils import to_categorical"
   ]
  },
  {
   "cell_type": "code",
   "execution_count": 8,
   "metadata": {},
   "outputs": [],
   "source": [
    "DATASET_DIR = os.path.join(\"..\", \"HandGesture\", \"images\")\n",
    "LABELS = os.listdir(DATASET_DIR)\n",
    "IMAGE_SIZE = (195, 195)"
   ]
  },
  {
   "cell_type": "code",
   "execution_count": 24,
   "metadata": {},
   "outputs": [
    {
     "name": "stderr",
     "output_type": "stream",
     "text": [
      "images for 'call_me' --->: 100%|██████████| 527/527 [00:02<00:00, 200.51it/s]\n",
      "images for 'fingers_crossed' --->: 100%|██████████| 504/504 [00:03<00:00, 151.69it/s]\n",
      "images for 'okay' --->: 100%|██████████| 540/540 [00:03<00:00, 163.47it/s]\n",
      "images for 'paper' --->: 100%|██████████| 539/539 [00:03<00:00, 172.82it/s]\n",
      "images for 'peace' --->: 100%|██████████| 526/526 [00:03<00:00, 173.53it/s]\n",
      "images for 'rock' --->: 100%|██████████| 508/508 [00:03<00:00, 164.88it/s]\n",
      "images for 'rock_on' --->: 100%|██████████| 531/531 [00:03<00:00, 157.22it/s]\n",
      "images for 'scissor' --->: 100%|██████████| 527/527 [00:03<00:00, 144.65it/s]\n",
      "images for 'thumbs' --->: 100%|██████████| 537/537 [00:04<00:00, 132.02it/s]\n",
      "images for 'up' --->: 100%|██████████| 504/504 [00:03<00:00, 150.48it/s]\n"
     ]
    }
   ],
   "source": [
    "IMAGES = []\n",
    "for label in LABELS:\n",
    "    label_dir = os.path.join(DATASET_DIR, label)\n",
    "    for img in tqdm(os.listdir(label_dir), desc=f\"images for '{label}' --->\"):\n",
    "        img_np = cv2.imread(os.path.join(label_dir, img), cv2.COLOR_BGR2GRAY).astype(np.float32) / 255.\n",
    "        img_np = cv2.resize(img_np, IMAGE_SIZE)\n",
    "        IMAGES.append({\n",
    "            \"img\": img_np,\n",
    "            \"label\": label,\n",
    "            \"label_num\": LABELS.index(label)\n",
    "            })\n"
   ]
  },
  {
   "cell_type": "code",
   "execution_count": 27,
   "metadata": {},
   "outputs": [],
   "source": [
    "random.shuffle(IMAGES)"
   ]
  },
  {
   "cell_type": "code",
   "execution_count": 53,
   "metadata": {},
   "outputs": [],
   "source": [
    "X_IMAGES, y_IMAGES = train_test_split(IMAGES, test_size=0.2, random_state=42)"
   ]
  },
  {
   "cell_type": "code",
   "execution_count": 58,
   "metadata": {},
   "outputs": [],
   "source": [
    "X_train = []\n",
    "y_train = []\n",
    "for img in X_IMAGES:\n",
    "    X_train.append(img[\"img\"])\n",
    "    y_train.append(img[\"label_num\"])\n",
    "\n",
    "X_test = []\n",
    "y_test = []\n",
    "for img in y_IMAGES:\n",
    "    X_test.append(img[\"img\"])\n",
    "    y_test.append(img[\"label_num\"])"
   ]
  },
  {
   "cell_type": "code",
   "execution_count": 59,
   "metadata": {},
   "outputs": [],
   "source": [
    "X_train = np.array(X_train).reshape(-1, *IMAGE_SIZE)\n",
    "y_train = np.array(y_train)\n",
    "X_test = np.array(X_test).reshape(-1, *IMAGE_SIZE)\n",
    "y_test = np.array(y_test)\n",
    "y_train_encoded = to_categorical(y_train, num_classes=len(LABELS))\n",
    "y_test_encoded = to_categorical(y_test, num_classes=len(LABELS))"
   ]
  },
  {
   "cell_type": "code",
   "execution_count": 64,
   "metadata": {},
   "outputs": [
    {
     "name": "stdout",
     "output_type": "stream",
     "text": [
      "(4194, 195, 195)\n",
      "(4194,)\n",
      "(4194, 10)\n",
      "(1049, 195, 195)\n",
      "(1049,)\n",
      "(1049, 10)\n"
     ]
    }
   ],
   "source": [
    "print(X_train.shape)\n",
    "print(y_train.shape)\n",
    "print(y_train_encoded.shape)\n",
    "print(X_test.shape)\n",
    "print(y_test.shape)\n",
    "print(y_test_encoded.shape)"
   ]
  },
  {
   "cell_type": "code",
   "execution_count": null,
   "metadata": {},
   "outputs": [],
   "source": []
  }
 ],
 "metadata": {
  "kernelspec": {
   "display_name": "Python 3",
   "language": "python",
   "name": "python3"
  },
  "language_info": {
   "codemirror_mode": {
    "name": "ipython",
    "version": 3
   },
   "file_extension": ".py",
   "mimetype": "text/x-python",
   "name": "python",
   "nbconvert_exporter": "python",
   "pygments_lexer": "ipython3",
   "version": "3.11.4"
  }
 },
 "nbformat": 4,
 "nbformat_minor": 2
}
