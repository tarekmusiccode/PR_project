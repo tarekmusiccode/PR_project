{
  "cells": [
    {
      "cell_type": "code",
      "execution_count": 30,
      "metadata": {
        "id": "yZZwm_sNGSUz"
      },
      "outputs": [],
      "source": [
        "import albumentations as A\n",
        "import os\n",
        "from tqdm import tqdm\n",
        "import cv2\n",
        "import numpy as np\n",
        "import random\n",
        "import matplotlib.pyplot as plt\n",
        "from sklearn.metrics import accuracy_score, classification_report\n",
        "from sklearn.model_selection import train_test_split\n",
        "from keras.models import Sequential\n",
        "from keras.layers import Conv2D, MaxPooling2D, Dense, Flatten, Dropout\n",
        "from keras.utils import to_categorical"
      ]
    },
    {
      "cell_type": "code",
      "source": [
        "from google.colab import drive\n",
        "drive.mount('/content/drive')"
      ],
      "metadata": {
        "id": "Qdfa68HgGWq_",
        "outputId": "f68841eb-5067-419f-f1ff-1a75c4ef939b",
        "colab": {
          "base_uri": "https://localhost:8080/"
        }
      },
      "execution_count": 31,
      "outputs": [
        {
          "output_type": "stream",
          "name": "stdout",
          "text": [
            "Drive already mounted at /content/drive; to attempt to forcibly remount, call drive.mount(\"/content/drive\", force_remount=True).\n"
          ]
        }
      ]
    },
    {
      "cell_type": "code",
      "execution_count": 32,
      "metadata": {
        "id": "kMlp3r90GSU0"
      },
      "outputs": [],
      "source": [
        "DATASET_DIR = (\"/content/drive/MyDrive/HandGesture/images\")\n",
        "LABELS = os.listdir(DATASET_DIR)\n",
        "IMAGE_SIZE = (195, 195)"
      ]
    },
    {
      "cell_type": "code",
      "execution_count": 33,
      "metadata": {
        "id": "qA9x_48XGSU1",
        "outputId": "6196ff6a-a61c-4907-e7ce-24214538a748",
        "colab": {
          "base_uri": "https://localhost:8080/"
        }
      },
      "outputs": [
        {
          "output_type": "stream",
          "name": "stderr",
          "text": [
            "images for 'peace' --->: 100%|██████████| 526/526 [00:04<00:00, 124.04it/s]\n",
            "images for 'rock_on' --->: 100%|██████████| 531/531 [00:04<00:00, 120.97it/s]\n",
            "images for 'fingers_crossed' --->: 100%|██████████| 504/504 [00:03<00:00, 127.48it/s]\n",
            "images for 'up' --->: 100%|██████████| 504/504 [00:04<00:00, 102.14it/s]\n",
            "images for 'thumbs' --->: 100%|██████████| 537/537 [00:04<00:00, 119.03it/s]\n",
            "images for 'rock' --->: 100%|██████████| 508/508 [00:03<00:00, 131.43it/s]\n",
            "images for 'scissor' --->: 100%|██████████| 527/527 [00:04<00:00, 126.22it/s]\n",
            "images for 'paper' --->: 100%|██████████| 539/539 [00:04<00:00, 119.07it/s]\n",
            "images for 'okay' --->: 100%|██████████| 540/540 [00:04<00:00, 122.78it/s]\n",
            "images for 'call_me' --->: 100%|██████████| 527/527 [00:03<00:00, 134.56it/s]\n"
          ]
        }
      ],
      "source": [
        "IMAGES = []\n",
        "for label in LABELS:\n",
        "    label_dir = os.path.join(DATASET_DIR, label)\n",
        "    for img in tqdm(os.listdir(label_dir), desc=f\"images for '{label}' --->\"):\n",
        "        img_np = cv2.imread(os.path.join(label_dir, img), cv2.COLOR_BGR2GRAY).astype(np.float32) / 255.\n",
        "        img_np = cv2.resize(img_np, IMAGE_SIZE)\n",
        "        IMAGES.append({\n",
        "            \"img\": img_np,\n",
        "            \"label\": label,\n",
        "            \"label_num\": LABELS.index(label)\n",
        "            })\n"
      ]
    },
    {
      "cell_type": "code",
      "execution_count": 34,
      "metadata": {
        "id": "ioAC0u9QGSU1"
      },
      "outputs": [],
      "source": [
        "random.shuffle(IMAGES)"
      ]
    },
    {
      "cell_type": "code",
      "execution_count": 35,
      "metadata": {
        "id": "7DJ1r12oGSU2"
      },
      "outputs": [],
      "source": [
        "X_IMAGES, y_IMAGES = train_test_split(IMAGES, test_size=0.2, random_state=42)"
      ]
    },
    {
      "cell_type": "code",
      "execution_count": 36,
      "metadata": {
        "id": "08AOdshMGSU2"
      },
      "outputs": [],
      "source": [
        "X_train = []\n",
        "y_train = []\n",
        "for img in X_IMAGES:\n",
        "    X_train.append(img[\"img\"])\n",
        "    y_train.append(img[\"label_num\"])\n",
        "\n",
        "X_test = []\n",
        "y_test = []\n",
        "for img in y_IMAGES:\n",
        "    X_test.append(img[\"img\"])\n",
        "    y_test.append(img[\"label_num\"])"
      ]
    },
    {
      "cell_type": "code",
      "execution_count": 37,
      "metadata": {
        "id": "En5s7poPGSU2"
      },
      "outputs": [],
      "source": [
        "X_train = np.array(X_train).reshape(-1, *IMAGE_SIZE)\n",
        "y_train = np.array(y_train)\n",
        "X_test = np.array(X_test).reshape(-1, *IMAGE_SIZE)\n",
        "y_test = np.array(y_test)\n",
        "y_train_encoded = to_categorical(y_train, num_classes=len(LABELS))\n",
        "y_test_encoded = to_categorical(y_test, num_classes=len(LABELS))"
      ]
    },
    {
      "cell_type": "code",
      "execution_count": 38,
      "metadata": {
        "id": "kcIYkWOPGSU2",
        "outputId": "51c05721-0adb-44d0-9e68-97e96215f375",
        "colab": {
          "base_uri": "https://localhost:8080/"
        }
      },
      "outputs": [
        {
          "output_type": "stream",
          "name": "stdout",
          "text": [
            "(4194, 195, 195)\n",
            "(4194,)\n",
            "(4194, 10)\n",
            "(1049, 195, 195)\n",
            "(1049,)\n",
            "(1049, 10)\n"
          ]
        }
      ],
      "source": [
        "print(X_train.shape)\n",
        "print(y_train.shape)\n",
        "print(y_train_encoded.shape)\n",
        "print(X_test.shape)\n",
        "print(y_test.shape)\n",
        "print(y_test_encoded.shape)"
      ]
    },
    {
      "cell_type": "code",
      "execution_count": 39,
      "metadata": {
        "id": "aitBGKGQGSU2",
        "outputId": "b563e684-8210-484b-cd90-e916cd45057f",
        "colab": {
          "base_uri": "https://localhost:8080/",
          "height": 486
        }
      },
      "outputs": [
        {
          "output_type": "display_data",
          "data": {
            "text/plain": [
              "<Figure size 640x480 with 1 Axes>"
            ],
            "image/png": "[encoded data removed]"
          },
          "metadata": {}
        }
      ],
      "source": [
        "from collections import Counter\n",
        "\n",
        "\n",
        "def visualize_class_distribution(y_train, y_test):\n",
        "    \"\"\"\n",
        "    Visualizes the class distribution in training and testing datasets when the labels are provided as lists.\n",
        "    Adds a numeric label at the top of each bar showing the count.\n",
        "\n",
        "    Parameters:\n",
        "    - y_train: List of training labels.\n",
        "    - y_test: List of testing labels.\n",
        "    \"\"\"\n",
        "    train_counter = Counter(y_train)\n",
        "    test_counter = Counter(y_test)\n",
        "\n",
        "    all_labels = list(set(train_counter.keys()).union(set(test_counter.keys())))\n",
        "    all_labels.sort()  # Sort the labels for consistent plotting\n",
        "    train_counts = [train_counter[label] for label in all_labels]\n",
        "    test_counts = [test_counter[label] for label in all_labels]\n",
        "\n",
        "    x = range(len(all_labels))  # Label locations\n",
        "\n",
        "    fig, ax = plt.subplots()\n",
        "    train_bars = ax.bar([i - 0.2 for i in x], train_counts, width=0.4, label='Train', align='center')\n",
        "    test_bars = ax.bar([i + 0.2 for i in x], test_counts, width=0.4, label='Test', align='center')\n",
        "\n",
        "    ax.set_ylabel('Counts')\n",
        "    ax.set_title('Class distribution in training and testing datasets')\n",
        "    ax.set_xticks(x)\n",
        "    ax.set_xticklabels(all_labels, rotation='horizontal')\n",
        "    ax.legend()\n",
        "\n",
        "    def autolabel(bars):\n",
        "        \"\"\"Attach a text label above each bar displaying its height.\"\"\"\n",
        "        for bar in bars:\n",
        "            height = bar.get_height()\n",
        "            ax.annotate('{}'.format(height),\n",
        "                        xy=(bar.get_x() + bar.get_width() / 2, height),\n",
        "                        xytext=(0, 1),  # 3 points vertical offset\n",
        "                        textcoords=\"offset points\",\n",
        "                        ha='center', va='bottom')\n",
        "\n",
        "    autolabel(train_bars)\n",
        "    autolabel(test_bars)\n",
        "\n",
        "    plt.tight_layout()\n",
        "    plt.show()\n",
        "\n",
        "visualize_class_distribution(y_train, y_test)"
      ]
    },
    {
      "cell_type": "code",
      "source": [
        "model = Sequential(\n",
        "    [\n",
        "        Conv2D(64, (5, 5), activation=\"relu\", input_shape=(*IMAGE_SIZE, 1)),\n",
        "        MaxPooling2D((3, 3)),\n",
        "        Dropout(0.25),  # Add dropout for regularization\n",
        "        Conv2D(128, (3, 3), activation=\"relu\"),\n",
        "        MaxPooling2D((2, 2)),\n",
        "        Dropout(0.25),\n",
        "        Conv2D(256, (3, 3), activation=\"relu\"),\n",
        "        MaxPooling2D((2, 2)),\n",
        "        Flatten(),\n",
        "        Dense(256, activation=\"relu\"),\n",
        "        Dropout(0.5),\n",
        "        Dense(128, activation=\"relu\"),\n",
        "        Dropout(0.5),\n",
        "        Dense(len(LABELS), activation=\"softmax\")\n",
        "    ]\n",
        ")\n",
        "model.compile(optimizer=\"adam\", loss='categorical_crossentropy', metrics=['accuracy', 'precision', 'recall'])\n"
      ],
      "metadata": {
        "colab": {
          "base_uri": "https://localhost:8080/"
        },
        "id": "KDWKEBRJUEkJ",
        "outputId": "840c972a-f1aa-40d3-de59-445a1a3f75f4"
      },
      "execution_count": 53,
      "outputs": [
        {
          "output_type": "stream",
          "name": "stderr",
          "text": [
            "/usr/local/lib/python3.10/dist-packages/keras/src/layers/convolutional/base_conv.py:107: UserWarning: Do not pass an `input_shape`/`input_dim` argument to a layer. When using Sequential models, prefer using an `Input(shape)` object as the first layer in the model instead.\n",
            "  super().__init__(activity_regularizer=activity_regularizer, **kwargs)\n"
          ]
        }
      ]
    },
    {
      "cell_type": "code",
      "source": [
        "model.fit(X_train, y_train_encoded, epochs=10, validation_data=(X_test[:60], y_test_encoded[:60]))"
      ],
      "metadata": {
        "colab": {
          "base_uri": "https://localhost:8080/"
        },
        "id": "mYyK-7QYWWgS",
        "outputId": "96b864a0-8c5b-471b-a1ae-50d2234fa446"
      },
      "execution_count": 54,
      "outputs": [
        {
          "output_type": "stream",
          "name": "stdout",
          "text": [
            "Epoch 1/10\n",
            "\u001b[1m132/132\u001b[0m \u001b[32m━━━━━━━━━━━━━━━━━━━━\u001b[0m\u001b[37m\u001b[0m \u001b[1m17s\u001b[0m 79ms/step - accuracy: 0.1831 - loss: 2.1972 - precision: 0.5157 - recall: 0.0367 - val_accuracy: 0.7833 - val_loss: 0.7035 - val_precision: 0.9500 - val_recall: 0.6333\n",
            "Epoch 2/10\n",
            "\u001b[1m132/132\u001b[0m \u001b[32m━━━━━━━━━━━━━━━━━━━━\u001b[0m\u001b[37m\u001b[0m \u001b[1m7s\u001b[0m 50ms/step - accuracy: 0.6458 - loss: 1.0087 - precision: 0.7788 - recall: 0.5167 - val_accuracy: 0.9333 - val_loss: 0.2107 - val_precision: 0.9643 - val_recall: 0.9000\n",
            "Epoch 3/10\n",
            "\u001b[1m132/132\u001b[0m \u001b[32m━━━━━━━━━━━━━━━━━━━━\u001b[0m\u001b[37m\u001b[0m \u001b[1m10s\u001b[0m 49ms/step - accuracy: 0.8252 - loss: 0.5491 - precision: 0.8717 - recall: 0.7606 - val_accuracy: 0.9333 - val_loss: 0.1431 - val_precision: 0.9655 - val_recall: 0.9333\n",
            "Epoch 4/10\n",
            "\u001b[1m132/132\u001b[0m \u001b[32m━━━━━━━━━━━━━━━━━━━━\u001b[0m\u001b[37m\u001b[0m \u001b[1m10s\u001b[0m 48ms/step - accuracy: 0.8873 - loss: 0.3408 - precision: 0.9116 - recall: 0.8660 - val_accuracy: 0.9500 - val_loss: 0.1716 - val_precision: 0.9649 - val_recall: 0.9167\n",
            "Epoch 5/10\n",
            "\u001b[1m132/132\u001b[0m \u001b[32m━━━━━━━━━━━━━━━━━━━━\u001b[0m\u001b[37m\u001b[0m \u001b[1m7s\u001b[0m 50ms/step - accuracy: 0.9193 - loss: 0.2364 - precision: 0.9375 - recall: 0.9018 - val_accuracy: 0.9500 - val_loss: 0.1293 - val_precision: 0.9661 - val_recall: 0.9500\n",
            "Epoch 6/10\n",
            "\u001b[1m132/132\u001b[0m \u001b[32m━━━━━━━━━━━━━━━━━━━━\u001b[0m\u001b[37m\u001b[0m \u001b[1m10s\u001b[0m 48ms/step - accuracy: 0.9340 - loss: 0.2028 - precision: 0.9496 - recall: 0.9202 - val_accuracy: 0.9667 - val_loss: 0.0819 - val_precision: 0.9831 - val_recall: 0.9667\n",
            "Epoch 7/10\n",
            "\u001b[1m132/132\u001b[0m \u001b[32m━━━━━━━━━━━━━━━━━━━━\u001b[0m\u001b[37m\u001b[0m \u001b[1m10s\u001b[0m 47ms/step - accuracy: 0.9462 - loss: 0.1650 - precision: 0.9546 - recall: 0.9339 - val_accuracy: 1.0000 - val_loss: 0.0250 - val_precision: 1.0000 - val_recall: 1.0000\n",
            "Epoch 8/10\n",
            "\u001b[1m132/132\u001b[0m \u001b[32m━━━━━━━━━━━━━━━━━━━━\u001b[0m\u001b[37m\u001b[0m \u001b[1m7s\u001b[0m 51ms/step - accuracy: 0.9632 - loss: 0.1193 - precision: 0.9666 - recall: 0.9582 - val_accuracy: 1.0000 - val_loss: 0.0482 - val_precision: 1.0000 - val_recall: 0.9833\n",
            "Epoch 9/10\n",
            "\u001b[1m132/132\u001b[0m \u001b[32m━━━━━━━━━━━━━━━━━━━━\u001b[0m\u001b[37m\u001b[0m \u001b[1m6s\u001b[0m 47ms/step - accuracy: 0.9662 - loss: 0.1059 - precision: 0.9707 - recall: 0.9592 - val_accuracy: 0.9833 - val_loss: 0.0340 - val_precision: 0.9833 - val_recall: 0.9833\n",
            "Epoch 10/10\n",
            "\u001b[1m132/132\u001b[0m \u001b[32m━━━━━━━━━━━━━━━━━━━━\u001b[0m\u001b[37m\u001b[0m \u001b[1m6s\u001b[0m 49ms/step - accuracy: 0.9776 - loss: 0.0713 - precision: 0.9805 - recall: 0.9740 - val_accuracy: 1.0000 - val_loss: 0.0198 - val_precision: 1.0000 - val_recall: 1.0000\n"
          ]
        },
        {
          "output_type": "execute_result",
          "data": {
            "text/plain": [
              "<keras.src.callbacks.history.History at 0x7faedf8621d0>"
            ]
          },
          "metadata": {},
          "execution_count": 54
        }
      ]
    },
    {
      "cell_type": "code",
      "source": [
        "prediction = model.predict(X_test)\n",
        "pred = np.argmax(prediction, axis=1)\n",
        "accuracy = accuracy_score(y_test, pred)\n",
        "print(\"Accuracy:\", accuracy)\n",
        "report = classification_report(y_test, pred)\n",
        "print(report)"
      ],
      "metadata": {
        "colab": {
          "base_uri": "https://localhost:8080/"
        },
        "id": "tGtWoxlPWXqq",
        "outputId": "b65ed06a-4d19-496e-d3bb-b5f3067ecddd"
      },
      "execution_count": 55,
      "outputs": [
        {
          "output_type": "stream",
          "name": "stdout",
          "text": [
            "\u001b[1m33/33\u001b[0m \u001b[32m━━━━━━━━━━━━━━━━━━━━\u001b[0m\u001b[37m\u001b[0m \u001b[1m1s\u001b[0m 16ms/step\n",
            "Accuracy: 0.9561487130600572\n",
            "              precision    recall  f1-score   support\n",
            "\n",
            "           0       0.90      0.96      0.93       121\n",
            "           1       1.00      0.97      0.98       101\n",
            "           2       0.96      0.98      0.97       121\n",
            "           3       0.95      0.99      0.97        80\n",
            "           4       0.97      0.99      0.98       124\n",
            "           5       0.99      0.99      0.99       104\n",
            "           6       0.93      0.85      0.89       113\n",
            "           7       0.90      0.95      0.93        98\n",
            "           8       0.99      0.92      0.95        89\n",
            "           9       0.99      0.97      0.98        98\n",
            "\n",
            "    accuracy                           0.96      1049\n",
            "   macro avg       0.96      0.96      0.96      1049\n",
            "weighted avg       0.96      0.96      0.96      1049\n",
            "\n"
          ]
        }
      ]
    },
    {
      "cell_type": "code",
      "source": [
        "model.save('/content/drive/MyDrive/HandGesture/CNN_with_dropout.h5')\n",
        "\n",
        "# Load the model\n",
        "loaded_model = load_model('/content/drive/MyDrive/HandGesture/CNN_with_dropout.h5')\n"
      ],
      "metadata": {
        "colab": {
          "base_uri": "https://localhost:8080/"
        },
        "id": "GBieTFlmP2Us",
        "outputId": "d48e6f80-5e2a-4ac5-a7ad-e86d7d0fc6eb"
      },
      "execution_count": 56,
      "outputs": [
        {
          "output_type": "stream",
          "name": "stderr",
          "text": [
            "WARNING:absl:You are saving your model as an HDF5 file via `model.save()` or `keras.saving.save_model(model)`. This file format is considered legacy. We recommend using instead the native Keras format, e.g. `model.save('my_model.keras')` or `keras.saving.save_model(model, 'my_model.keras')`. \n",
            "WARNING:absl:Compiled the loaded model, but the compiled metrics have yet to be built. `model.compile_metrics` will be empty until you train or evaluate the model.\n"
          ]
        }
      ]
    }
  ],
  "metadata": {
    "kernelspec": {
      "display_name": "Python 3",
      "name": "python3"
    },
    "language_info": {
      "codemirror_mode": {
        "name": "ipython",
        "version": 3
      },
      "file_extension": ".py",
      "mimetype": "text/x-python",
      "name": "python",
      "nbconvert_exporter": "python",
      "pygments_lexer": "ipython3",
      "version": "3.11.4"
    },
    "colab": {
      "provenance": [],
      "gpuType": "T4"
    },
    "accelerator": "GPU"
  },
  "nbformat": 4,
  "nbformat_minor": 0
}